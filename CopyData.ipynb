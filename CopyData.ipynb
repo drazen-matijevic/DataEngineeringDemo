{
 "cells": [
  {
   "cell_type": "code",
   "execution_count": 5,
   "metadata": {},
   "outputs": [
    {
     "name": "stderr",
     "output_type": "stream",
     "text": [
      "C:\\Users\\matij\\AppData\\Local\\Temp\\ipykernel_1732\\792977026.py:45: UserWarning: pandas only supports SQLAlchemy connectable (engine/connection) or database string URI or sqlite3 DBAPI2 connection. Other DBAPI2 objects are not tested. Please consider using SQLAlchemy.\n",
      "  df = pd.read_sql(querydata + table[0], cnxn)\n"
     ]
    },
    {
     "name": "stdout",
     "output_type": "stream",
     "text": [
      "WARNING: This file actor already exists!\n",
      "WARNING: This file category already exists!\n",
      "WARNING: This file film already exists!\n",
      "WARNING: This file film_actor already exists!\n",
      "WARNING: This file film_category already exists!\n",
      "WARNING: This file inventory already exists!\n",
      "WARNING: This file language already exists!\n"
     ]
    }
   ],
   "source": [
    "import pyodbc\n",
    "import pandas as pd\n",
    "\n",
    "server = 'de-engineer-trial-intus.database.windows.net' \n",
    "database = 'FilmData' \n",
    "username = 'de_candidate' \n",
    "password = '1ntu5-d4t4'  \n",
    "\n",
    "try:\n",
    "\n",
    "    # Connect to database.\n",
    "    cnxn = pyodbc.connect('DRIVER={SQL Server};SERVER='+server+';DATABASE='+database+';UID='+username+';PWD='+ password)\n",
    "\n",
    "except pyodbc.Error as e:\n",
    "\n",
    "    # Confirm unsuccessful connection and stop program execution.\n",
    "    print(\"Database connection unsuccessful.\")\n",
    "    quit()\n",
    "\n",
    "try:\n",
    "\n",
    "    cursor = cnxn.cursor()\n",
    "    # Select table names and schema from SQL Server\n",
    "    query = \"\"\"SELECT \n",
    "                t.name as TableName\n",
    "            FROM\n",
    "                sys.tables t\n",
    "                INNER JOIN sys.schemas s ON t.schema_id = s.schema_id\n",
    "            WHERE s.name =  'dbo'\"\"\"\n",
    "\n",
    "\n",
    "    # Execute query.\n",
    "    cursor.execute(query)\n",
    "\n",
    "    # Fetch the tables from sql server.\n",
    "    results = cursor.fetchall()\n",
    "    \n",
    "    # Select data from table\n",
    "    querydata = \"SELECT * FROM \"\n",
    "\n",
    "    # Sink path\n",
    "    output_path = 'c:\\\\demo\\\\'\n",
    "\n",
    "    for table in results:\n",
    "        df = pd.read_sql(querydata + table[0], cnxn)\n",
    "        #print(df.head)\n",
    "        # Write dataframe to csv files\n",
    "        try:\n",
    "            df.to_csv ((output_path + table[0] + '.csv'), index = None, header=True, mode='x')\n",
    "        except FileExistsError:\n",
    "            print('WARNING: This file ' +table[0]+ ' already exists!')\n",
    "\n",
    "except pyodbc.Error as e:\n",
    "\n",
    "    # Message stating export unsuccessful.\n",
    "    print(\"Data export unsuccessful.\")\n",
    "    quit()        \n",
    "\n",
    "\n"
   ]
  },
  {
   "cell_type": "code",
   "execution_count": null,
   "metadata": {},
   "outputs": [],
   "source": []
  }
 ],
 "metadata": {
  "kernelspec": {
   "display_name": "Python 3",
   "language": "python",
   "name": "python3"
  },
  "language_info": {
   "codemirror_mode": {
    "name": "ipython",
    "version": 3
   },
   "file_extension": ".py",
   "mimetype": "text/x-python",
   "name": "python",
   "nbconvert_exporter": "python",
   "pygments_lexer": "ipython3",
   "version": "3.11.8"
  }
 },
 "nbformat": 4,
 "nbformat_minor": 2
}
